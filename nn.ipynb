{
 "cells": [
  {
   "cell_type": "code",
   "execution_count": 1,
   "metadata": {
    "ExecuteTime": {
     "end_time": "2019-06-09T22:31:11.353351Z",
     "start_time": "2019-06-09T22:31:10.223404Z"
    }
   },
   "outputs": [
    {
     "name": "stderr",
     "output_type": "stream",
     "text": [
      "Using TensorFlow backend.\n"
     ]
    }
   ],
   "source": [
    "from __future__ import print_function\n",
    "import keras\n",
    "from keras.datasets import mnist\n",
    "from keras.models import Sequential, model_from_json\n",
    "from keras.layers import Dense, Dropout, Flatten\n",
    "from keras.layers import Conv2D, MaxPooling2D\n",
    "from keras import backend as K\n",
    "import seaborn as sns"
   ]
  },
  {
   "cell_type": "code",
   "execution_count": 18,
   "metadata": {
    "ExecuteTime": {
     "end_time": "2019-06-09T22:35:10.706266Z",
     "start_time": "2019-06-09T22:35:10.487964Z"
    }
   },
   "outputs": [],
   "source": [
    "batch_size = 128\n",
    "num_classes = 9\n",
    "epochs = 12\n",
    "\n",
    "# input image dimensions\n",
    "img_rows, img_cols = 28, 28\n",
    "\n",
    "# the data, split between train and test sets\n",
    "(x_train, y_train), (x_test, y_test) = mnist.load_data()\n",
    "x_train = x_train[y_train != 0]\n",
    "y_train = y_train[y_train != 0] - 1\n",
    "x_test = x_test[y_test != 0]\n",
    "y_test = y_test[y_test != 0] - 1\n"
   ]
  },
  {
   "cell_type": "code",
   "execution_count": 19,
   "metadata": {
    "ExecuteTime": {
     "end_time": "2019-06-09T22:48:52.986568Z",
     "start_time": "2019-06-09T22:35:12.832484Z"
    }
   },
   "outputs": [
    {
     "name": "stdout",
     "output_type": "stream",
     "text": [
      "x_train shape: (54077, 28, 28, 1)\n",
      "54077 train samples\n",
      "9020 test samples\n",
      "Train on 54077 samples, validate on 9020 samples\n",
      "Epoch 1/12\n",
      "54077/54077 [==============================] - 56s 1ms/step - loss: 0.2614 - acc: 0.9183 - val_loss: 0.0573 - val_acc: 0.9810\n",
      "Epoch 2/12\n",
      "54077/54077 [==============================] - 59s 1ms/step - loss: 0.0863 - acc: 0.9745 - val_loss: 0.0399 - val_acc: 0.9855\n",
      "Epoch 3/12\n",
      "54077/54077 [==============================] - 60s 1ms/step - loss: 0.0656 - acc: 0.9797 - val_loss: 0.0328 - val_acc: 0.9897\n",
      "Epoch 4/12\n",
      "54077/54077 [==============================] - 60s 1ms/step - loss: 0.0511 - acc: 0.9841 - val_loss: 0.0305 - val_acc: 0.9897\n",
      "Epoch 5/12\n",
      "54077/54077 [==============================] - 72s 1ms/step - loss: 0.0447 - acc: 0.9863 - val_loss: 0.0342 - val_acc: 0.9897\n",
      "Epoch 6/12\n",
      "54077/54077 [==============================] - 70s 1ms/step - loss: 0.0382 - acc: 0.9881 - val_loss: 0.0291 - val_acc: 0.9914\n",
      "Epoch 7/12\n",
      "54077/54077 [==============================] - 72s 1ms/step - loss: 0.0353 - acc: 0.9892 - val_loss: 0.0235 - val_acc: 0.9938\n",
      "Epoch 8/12\n",
      "54077/54077 [==============================] - 71s 1ms/step - loss: 0.0316 - acc: 0.9901 - val_loss: 0.0245 - val_acc: 0.9919\n",
      "Epoch 9/12\n",
      "54077/54077 [==============================] - 73s 1ms/step - loss: 0.0303 - acc: 0.9908 - val_loss: 0.0248 - val_acc: 0.9921\n",
      "Epoch 10/12\n",
      "54077/54077 [==============================] - 73s 1ms/step - loss: 0.0270 - acc: 0.9916 - val_loss: 0.0268 - val_acc: 0.9918\n",
      "Epoch 11/12\n",
      "54077/54077 [==============================] - 77s 1ms/step - loss: 0.0269 - acc: 0.9919 - val_loss: 0.0310 - val_acc: 0.9898\n",
      "Epoch 12/12\n",
      "54077/54077 [==============================] - 73s 1ms/step - loss: 0.0249 - acc: 0.9923 - val_loss: 0.0307 - val_acc: 0.9899\n",
      "Test loss: 0.03068244986225766\n",
      "Test accuracy: 0.9899113082039911\n"
     ]
    }
   ],
   "source": [
    "if K.image_data_format() == 'channels_first':\n",
    "    x_train = x_train.reshape(x_train.shape[0], 1, img_rows, img_cols)\n",
    "    x_test = x_test.reshape(x_test.shape[0], 1, img_rows, img_cols)\n",
    "    input_shape = (1, img_rows, img_cols)\n",
    "else:\n",
    "    x_train = x_train.reshape(x_train.shape[0], img_rows, img_cols, 1)\n",
    "    x_test = x_test.reshape(x_test.shape[0], img_rows, img_cols, 1)\n",
    "    input_shape = (img_rows, img_cols, 1)\n",
    "\n",
    "x_train = x_train.astype('float32')\n",
    "x_test = x_test.astype('float32')\n",
    "x_train /= 255\n",
    "x_test /= 255\n",
    "print('x_train shape:', x_train.shape)\n",
    "print(x_train.shape[0], 'train samples')\n",
    "print(x_test.shape[0], 'test samples')\n",
    "\n",
    "# convert class vectors to binary class matrices\n",
    "y_train = keras.utils.to_categorical(y_train, num_classes)\n",
    "y_test = keras.utils.to_categorical(y_test, num_classes)\n",
    "\n",
    "model = Sequential()\n",
    "model.add(Conv2D(32, kernel_size=(3, 3),\n",
    "                 activation='relu',\n",
    "                 input_shape=input_shape))\n",
    "model.add(Conv2D(64, (3, 3), activation='relu'))\n",
    "model.add(MaxPooling2D(pool_size=(2, 2)))\n",
    "model.add(Dropout(0.25))\n",
    "model.add(Flatten())\n",
    "model.add(Dense(128, activation='relu'))\n",
    "model.add(Dropout(0.5))\n",
    "model.add(Dense(num_classes, activation='softmax'))\n",
    "\n",
    "model.compile(loss=keras.losses.categorical_crossentropy,\n",
    "              optimizer=keras.optimizers.Adadelta(),\n",
    "              metrics=['accuracy'])\n",
    "\n",
    "model.fit(x_train, y_train,\n",
    "          batch_size=batch_size,\n",
    "          epochs=epochs,\n",
    "          verbose=1,\n",
    "          validation_data=(x_test, y_test))\n",
    "score = model.evaluate(x_test, y_test, verbose=0)\n",
    "print('Test loss:', score[0])\n",
    "print('Test accuracy:', score[1])"
   ]
  },
  {
   "cell_type": "code",
   "execution_count": 20,
   "metadata": {
    "ExecuteTime": {
     "end_time": "2019-06-09T22:50:57.590133Z",
     "start_time": "2019-06-09T22:50:57.498168Z"
    }
   },
   "outputs": [],
   "source": [
    "model_json = model.to_json()\n",
    "with open(\"model.json\", \"w\") as json_file:\n",
    "    json_file.write(model_json)\n",
    "model.save_weights(\"model.h5\")"
   ]
  },
  {
   "cell_type": "code",
   "execution_count": null,
   "metadata": {},
   "outputs": [],
   "source": [
    "json_file = open('model.json', 'r')\n",
    "loaded_model_json = json_file.read()\n",
    "json_file.close()\n",
    "loaded_model = model_from_json(loaded_model_json)\n",
    "# load weights into new model\n",
    "loaded_model.load_weights(\"model.h5\")\n",
    "print(\"Loaded model from disk\")"
   ]
  },
  {
   "cell_type": "code",
   "execution_count": null,
   "metadata": {},
   "outputs": [],
   "source": [
    "arr = np.array(x_train[1]).reshape((28,28,1))\n",
    "arr = np.expand_dims(arr, axis=0)"
   ]
  },
  {
   "cell_type": "code",
   "execution_count": null,
   "metadata": {},
   "outputs": [],
   "source": [
    "loaded_model.predict(arr)"
   ]
  },
  {
   "cell_type": "code",
   "execution_count": null,
   "metadata": {},
   "outputs": [],
   "source": [
    "sns.heatmap(arr)"
   ]
  },
  {
   "cell_type": "code",
   "execution_count": null,
   "metadata": {},
   "outputs": [],
   "source": [
    "arr"
   ]
  },
  {
   "cell_type": "code",
   "execution_count": null,
   "metadata": {},
   "outputs": [],
   "source": []
  }
 ],
 "metadata": {
  "kernelspec": {
   "display_name": "Python 3",
   "language": "python",
   "name": "python3"
  },
  "language_info": {
   "codemirror_mode": {
    "name": "ipython",
    "version": 3
   },
   "file_extension": ".py",
   "mimetype": "text/x-python",
   "name": "python",
   "nbconvert_exporter": "python",
   "pygments_lexer": "ipython3",
   "version": "3.7.3"
  },
  "varInspector": {
   "cols": {
    "lenName": 16,
    "lenType": 16,
    "lenVar": 40
   },
   "kernels_config": {
    "python": {
     "delete_cmd_postfix": "",
     "delete_cmd_prefix": "del ",
     "library": "var_list.py",
     "varRefreshCmd": "print(var_dic_list())"
    },
    "r": {
     "delete_cmd_postfix": ") ",
     "delete_cmd_prefix": "rm(",
     "library": "var_list.r",
     "varRefreshCmd": "cat(var_dic_list()) "
    }
   },
   "types_to_exclude": [
    "module",
    "function",
    "builtin_function_or_method",
    "instance",
    "_Feature"
   ],
   "window_display": false
  }
 },
 "nbformat": 4,
 "nbformat_minor": 2
}
