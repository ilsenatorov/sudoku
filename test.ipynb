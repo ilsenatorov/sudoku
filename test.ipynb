{
 "cells": [
  {
   "cell_type": "code",
   "execution_count": 1,
   "metadata": {
    "ExecuteTime": {
     "end_time": "2019-06-09T14:46:24.776793Z",
     "start_time": "2019-06-09T14:46:24.768916Z"
    }
   },
   "outputs": [],
   "source": [
    "from sudoku import Board"
   ]
  },
  {
   "cell_type": "code",
   "execution_count": 30,
   "metadata": {
    "ExecuteTime": {
     "end_time": "2019-06-09T14:47:03.425676Z",
     "start_time": "2019-06-09T14:47:03.419992Z"
    }
   },
   "outputs": [],
   "source": [
    "B = Board(9)"
   ]
  },
  {
   "cell_type": "code",
   "execution_count": 31,
   "metadata": {
    "ExecuteTime": {
     "end_time": "2019-06-09T14:47:03.671289Z",
     "start_time": "2019-06-09T14:47:03.633047Z"
    }
   },
   "outputs": [
    {
     "data": {
      "text/plain": [
       "True"
      ]
     },
     "execution_count": 31,
     "metadata": {},
     "output_type": "execute_result"
    }
   ],
   "source": [
    "B.solve()"
   ]
  },
  {
   "cell_type": "code",
   "execution_count": 32,
   "metadata": {
    "ExecuteTime": {
     "end_time": "2019-06-09T14:47:05.786371Z",
     "start_time": "2019-06-09T14:47:03.808184Z"
    }
   },
   "outputs": [],
   "source": [
    "B.prepare(2)"
   ]
  },
  {
   "cell_type": "code",
   "execution_count": 33,
   "metadata": {
    "ExecuteTime": {
     "end_time": "2019-06-09T14:47:06.091541Z",
     "start_time": "2019-06-09T14:47:05.799192Z"
    }
   },
   "outputs": [
    {
     "data": {
      "text/plain": [
       "array([[9, 3, 6, 7, 8, 5, 2, 4, 1],\n",
       "       [8, 7, 4, 6, 2, 1, 3, 9, 5],\n",
       "       [5, 1, 2, 9, 3, 4, 8, 6, 7],\n",
       "       [6, 5, 1, 4, 9, 2, 7, 8, 3],\n",
       "       [4, 2, 8, 3, 5, 7, 9, 1, 6],\n",
       "       [3, 9, 7, 8, 1, 6, 4, 5, 2],\n",
       "       [1, 8, 9, 2, 6, 3, 5, 7, 4],\n",
       "       [2, 4, 5, 1, 7, 8, 6, 3, 9],\n",
       "       [7, 6, 3, 5, 4, 9, 1, 2, 8]])"
      ]
     },
     "execution_count": 33,
     "metadata": {},
     "output_type": "execute_result"
    }
   ],
   "source": [
    "B.solution()"
   ]
  },
  {
   "cell_type": "code",
   "execution_count": 71,
   "metadata": {
    "ExecuteTime": {
     "end_time": "2019-06-09T15:36:38.218925Z",
     "start_time": "2019-06-09T15:36:38.205882Z"
    }
   },
   "outputs": [],
   "source": [
    "step_count = 9\n",
    "height = 270\n",
    "width = 270\n",
    "image = Image.new(mode='L', size=(height, width), color=255)\n",
    "font = ImageFont.truetype('Hack.ttf', size=25)\n",
    "# Draw some lines\n",
    "draw = ImageDraw.Draw(image)\n",
    "y_start = 0\n",
    "y_end = image.height\n",
    "step_size = int(image.width / step_count)\n",
    "\n",
    "for x in range(0, image.width, step_size):\n",
    "    line = ((x, y_start), (x, y_end))\n",
    "    draw.line(line, fill=0)\n",
    "\n",
    "x_start = 0\n",
    "x_end = image.width\n",
    "\n",
    "for y in range(0, image.height, step_size):\n",
    "    line = ((x_start, y), (x_end, y))\n",
    "    draw.line(line, fill=0)\n",
    "\n",
    "    \n",
    "for x in range(0, image.width, step_size*3):\n",
    "    line = ((x-1, y_start), (x-1, y_end))\n",
    "    draw.line(line, fill=0)\n",
    "    line = ((x+1, y_start), (x+1, y_end))\n",
    "    draw.line(line, fill=0)\n",
    "\n",
    "for y in range(0, image.height, step_size*3):\n",
    "    line = ((x_start, y-1), (x_end, y-1))\n",
    "    draw.line(line, fill=0)\n",
    "    line = ((x_start, y+1), (x_end, y+1))\n",
    "    draw.line(line, fill=0)\n",
    "draw.text((8,0),'5',font=font)\n",
    "del draw\n",
    "\n",
    "image.save('drawn_grid.png')"
   ]
  },
  {
   "cell_type": "code",
   "execution_count": 51,
   "metadata": {
    "ExecuteTime": {
     "end_time": "2019-06-09T15:29:35.346845Z",
     "start_time": "2019-06-09T15:29:35.324842Z"
    }
   },
   "outputs": [
    {
     "ename": "TypeError",
     "evalue": "truetype() got an unexpected keyword argument 'filename'",
     "output_type": "error",
     "traceback": [
      "\u001b[0;31m---------------------------------------------------------------------------\u001b[0m",
      "\u001b[0;31mTypeError\u001b[0m                                 Traceback (most recent call last)",
      "\u001b[0;32m<ipython-input-51-70bd1d01cafe>\u001b[0m in \u001b[0;36m<module>\u001b[0;34m\u001b[0m\n\u001b[1;32m      1\u001b[0m \u001b[0;32mfrom\u001b[0m \u001b[0mPIL\u001b[0m \u001b[0;32mimport\u001b[0m \u001b[0mImage\u001b[0m\u001b[0;34m,\u001b[0m \u001b[0mImageFont\u001b[0m\u001b[0;34m,\u001b[0m \u001b[0mImageDraw\u001b[0m\u001b[0;34m\u001b[0m\u001b[0;34m\u001b[0m\u001b[0m\n\u001b[1;32m      2\u001b[0m \u001b[0mim\u001b[0m \u001b[0;34m=\u001b[0m \u001b[0mImage\u001b[0m\u001b[0;34m.\u001b[0m\u001b[0mopen\u001b[0m\u001b[0;34m(\u001b[0m\u001b[0;34m\"drawn_grid.png\"\u001b[0m\u001b[0;34m)\u001b[0m\u001b[0;34m\u001b[0m\u001b[0;34m\u001b[0m\u001b[0m\n\u001b[0;32m----> 3\u001b[0;31m \u001b[0mhelvetica\u001b[0m \u001b[0;34m=\u001b[0m \u001b[0mImageFont\u001b[0m\u001b[0;34m.\u001b[0m\u001b[0mtruetype\u001b[0m\u001b[0;34m(\u001b[0m\u001b[0mfilename\u001b[0m\u001b[0;34m=\u001b[0m\u001b[0;34m\"Helvetica.ttf\"\u001b[0m\u001b[0;34m,\u001b[0m \u001b[0msize\u001b[0m\u001b[0;34m=\u001b[0m\u001b[0;36m40\u001b[0m\u001b[0;34m)\u001b[0m\u001b[0;34m\u001b[0m\u001b[0;34m\u001b[0m\u001b[0m\n\u001b[0m\u001b[1;32m      4\u001b[0m \u001b[0md\u001b[0m \u001b[0;34m=\u001b[0m \u001b[0mImageDraw\u001b[0m\u001b[0;34m.\u001b[0m\u001b[0mDraw\u001b[0m\u001b[0;34m(\u001b[0m\u001b[0mim\u001b[0m\u001b[0;34m)\u001b[0m\u001b[0;34m\u001b[0m\u001b[0;34m\u001b[0m\u001b[0m\n\u001b[1;32m      5\u001b[0m \u001b[0;34m\u001b[0m\u001b[0m\n",
      "\u001b[0;31mTypeError\u001b[0m: truetype() got an unexpected keyword argument 'filename'"
     ]
    }
   ],
   "source": [
    "from PIL import Image, ImageFont, ImageDraw\n",
    "im = Image.open(\"drawn_grid.png\")\n",
    "helvetica = ImageFont.truetype(filename=\"Helvetica.ttf\", size=40)\n",
    "d = ImageDraw.Draw(im)\n",
    "\n",
    "location = (100, 50)\n",
    "text_color = (100, 100, 200)\n",
    "d.text(location, \"1\", font=helvetica, fill=text_color)\n",
    "\n",
    "im.save(\"drawn_grid.png\")"
   ]
  },
  {
   "cell_type": "code",
   "execution_count": 72,
   "metadata": {
    "ExecuteTime": {
     "end_time": "2019-06-09T15:39:26.669082Z",
     "start_time": "2019-06-09T15:39:26.654718Z"
    }
   },
   "outputs": [
    {
     "name": "stdout",
     "output_type": "stream",
     "text": [
      "[0 0 0 0 8 0 2 0 0]\n",
      "[0 0 0 0 0 1 3 9 0]\n",
      "[0 0 2 0 3 4 0 0 0]\n",
      "[0 0 1 4 0 2 0 0 0]\n",
      "[4 2 0 0 0 0 0 1 6]\n",
      "[3 9 7 0 1 0 4 5 0]\n",
      "[1 8 9 2 0 3 0 7 0]\n",
      "[2 0 5 1 0 0 6 0 0]\n",
      "[0 6 0 0 4 9 0 0 0]\n"
     ]
    }
   ],
   "source": [
    "for i in B.grid:\n",
    "    print(i)"
   ]
  },
  {
   "cell_type": "code",
   "execution_count": null,
   "metadata": {},
   "outputs": [],
   "source": []
  }
 ],
 "metadata": {
  "kernelspec": {
   "display_name": "Python 3",
   "language": "python",
   "name": "python3"
  },
  "language_info": {
   "codemirror_mode": {
    "name": "ipython",
    "version": 3
   },
   "file_extension": ".py",
   "mimetype": "text/x-python",
   "name": "python",
   "nbconvert_exporter": "python",
   "pygments_lexer": "ipython3",
   "version": "3.7.3"
  },
  "varInspector": {
   "cols": {
    "lenName": 16,
    "lenType": 16,
    "lenVar": 40
   },
   "kernels_config": {
    "python": {
     "delete_cmd_postfix": "",
     "delete_cmd_prefix": "del ",
     "library": "var_list.py",
     "varRefreshCmd": "print(var_dic_list())"
    },
    "r": {
     "delete_cmd_postfix": ") ",
     "delete_cmd_prefix": "rm(",
     "library": "var_list.r",
     "varRefreshCmd": "cat(var_dic_list()) "
    }
   },
   "types_to_exclude": [
    "module",
    "function",
    "builtin_function_or_method",
    "instance",
    "_Feature"
   ],
   "window_display": false
  }
 },
 "nbformat": 4,
 "nbformat_minor": 2
}
